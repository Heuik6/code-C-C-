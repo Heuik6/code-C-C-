{
 "cells": [
  {
   "cell_type": "code",
   "execution_count": 2,
   "id": "cd94b255-7f86-4866-925e-cb9faa8aaf1d",
   "metadata": {},
   "outputs": [
    {
     "name": "stdin",
     "output_type": "stream",
     "text": [
      "Nhap chieu dai:  23\n",
      "Nhap chieu rong:  12\n"
     ]
    },
    {
     "name": "stdout",
     "output_type": "stream",
     "text": [
      "Dien tich =  276\n"
     ]
    }
   ],
   "source": [
    "chieudai = int(input(\"Nhap chieu dai: \"))\n",
    "chieurong = int(input(\"Nhap chieu rong: \"))\n",
    "print(\"Dien tich = \", chieudai * chieurong)"
   ]
  },
  {
   "cell_type": "code",
   "execution_count": null,
   "id": "d25f5efd-557b-4e82-b6ca-100410ff8926",
   "metadata": {},
   "outputs": [],
   "source": []
  }
 ],
 "metadata": {
  "kernelspec": {
   "display_name": "Python 3 (ipykernel)",
   "language": "python",
   "name": "python3"
  },
  "language_info": {
   "codemirror_mode": {
    "name": "ipython",
    "version": 3
   },
   "file_extension": ".py",
   "mimetype": "text/x-python",
   "name": "python",
   "nbconvert_exporter": "python",
   "pygments_lexer": "ipython3",
   "version": "3.10.14"
  }
 },
 "nbformat": 4,
 "nbformat_minor": 5
}
